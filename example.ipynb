{
 "cells": [
  {
   "cell_type": "code",
   "execution_count": 1,
   "metadata": {},
   "outputs": [],
   "source": [
    "%load_ext autoreload\n",
    "%autoreload 2"
   ]
  },
  {
   "cell_type": "code",
   "execution_count": 2,
   "metadata": {},
   "outputs": [],
   "source": [
    "import tempClass"
   ]
  },
  {
   "cell_type": "code",
   "execution_count": 72,
   "metadata": {},
   "outputs": [],
   "source": [
    "dw2v=tempClass.tempName()"
   ]
  },
  {
   "cell_type": "code",
   "execution_count": 73,
   "metadata": {},
   "outputs": [],
   "source": [
    "vector=dw2v.getVector(\"car\",\"1999\")"
   ]
  },
  {
   "cell_type": "code",
   "execution_count": 74,
   "metadata": {},
   "outputs": [
    {
     "data": {
      "text/plain": [
       "[('car', 0.9999998807907104),\n",
       " ('cars', 0.7811488509178162),\n",
       " ('truck', 0.7705339193344116),\n",
       " ('vehicle', 0.7412732243537903),\n",
       " ('driver', 0.737420916557312),\n",
       " ('driving', 0.6966835260391235),\n",
       " ('automobile', 0.6742063760757446),\n",
       " ('bus', 0.6722737550735474),\n",
       " ('drivers', 0.6621215343475342),\n",
       " ('ride', 0.6498318910598755)]"
      ]
     },
     "execution_count": 74,
     "metadata": {},
     "output_type": "execute_result"
    }
   ],
   "source": [
    "dw2v.findSimilars(vector,0.01,\"2010\",max_words=10)"
   ]
  },
  {
   "cell_type": "code",
   "execution_count": 77,
   "metadata": {},
   "outputs": [
    {
     "data": {
      "text/plain": [
       "array([[ 0.1113682 ,  0.11681186, -0.15101442, ..., -0.04887579,\n",
       "        -0.1207394 , -0.12445708],\n",
       "       [-4.4761047 , -5.5973535 , -3.0987475 , ..., -5.4607964 ,\n",
       "         2.4895482 , -1.7519163 ],\n",
       "       [-4.016667  , -4.6544137 , -2.726285  , ..., -4.6358643 ,\n",
       "         2.1676474 , -1.4664505 ],\n",
       "       ...,\n",
       "       [ 0.5032397 , -0.19650146,  0.3624813 , ..., -0.28722754,\n",
       "        -0.13551362, -0.2104084 ],\n",
       "       [-0.07156589, -0.14442293, -0.3710038 , ...,  0.12168793,\n",
       "         0.24003685,  0.36848763],\n",
       "       [ 0.2668996 , -0.153193  , -0.2418212 , ...,  0.16567403,\n",
       "         0.33062902, -0.11917011]], dtype=float32)"
      ]
     },
     "execution_count": 77,
     "metadata": {},
     "output_type": "execute_result"
    }
   ],
   "source": [
    "dw2v.matrices[0]"
   ]
  },
  {
   "cell_type": "code",
   "execution_count": 78,
   "metadata": {},
   "outputs": [
    {
     "data": {
      "text/plain": [
       "array([[ 0.1113682 ,  0.11681186, -0.15101442, ..., -0.04887579,\n",
       "        -0.1207394 , -0.12445708],\n",
       "       [-4.4761376 , -5.5973506 , -3.09867   , ..., -5.460762  ,\n",
       "         2.489562  , -1.7519517 ],\n",
       "       [-4.0166993 , -4.6544323 , -2.7262096 , ..., -4.635825  ,\n",
       "         2.167623  , -1.4664443 ],\n",
       "       ...,\n",
       "       [ 0.503261  , -0.19655317,  0.36243623, ..., -0.28723368,\n",
       "        -0.13551153, -0.21041833],\n",
       "       [-0.0716304 , -0.14445075, -0.37100682, ...,  0.12164215,\n",
       "         0.24001077,  0.36851403],\n",
       "       [ 0.26690125, -0.15317617, -0.24182062, ...,  0.1656659 ,\n",
       "         0.33060256, -0.11917891]], dtype=float32)"
      ]
     },
     "execution_count": 78,
     "metadata": {},
     "output_type": "execute_result"
    }
   ],
   "source": [
    "dw2v.matrices[1]"
   ]
  },
  {
   "cell_type": "code",
   "execution_count": 93,
   "metadata": {},
   "outputs": [],
   "source": [
    "vector=dw2v.getVectorPosNeg(\"2005\",positives=[\"car\"],negatives=[\"highway\",\"girl\"])"
   ]
  },
  {
   "cell_type": "code",
   "execution_count": 94,
   "metadata": {},
   "outputs": [
    {
     "data": {
      "text/plain": [
       "[('motors', 0.5789847801841558),\n",
       " ('manufacturers', 0.5589702628410083),\n",
       " ('chip', 0.5237924891005522),\n",
       " ('pricing', 0.5208028012921568),\n",
       " ('engines', 0.5017736779456484),\n",
       " ('automobile', 0.5004346394638698),\n",
       " ('volkswagen', 0.4918720310364795),\n",
       " ('auto', 0.4879421294954528),\n",
       " ('suppliers', 0.48237395731310106),\n",
       " ('automotive', 0.4767556496643115)]"
      ]
     },
     "execution_count": 94,
     "metadata": {},
     "output_type": "execute_result"
    }
   ],
   "source": [
    "dw2v.findSimilars(vector,0.01,\"2005\",max_words=10)"
   ]
  },
  {
   "cell_type": "code",
   "execution_count": null,
   "metadata": {},
   "outputs": [],
   "source": []
  }
 ],
 "metadata": {
  "kernelspec": {
   "display_name": "Python (tensorflow-gpu)",
   "language": "python",
   "name": "tensorflow-gpu"
  },
  "language_info": {
   "codemirror_mode": {
    "name": "ipython",
    "version": 3
   },
   "file_extension": ".py",
   "mimetype": "text/x-python",
   "name": "python",
   "nbconvert_exporter": "python",
   "pygments_lexer": "ipython3",
   "version": "3.6.8"
  }
 },
 "nbformat": 4,
 "nbformat_minor": 2
}
